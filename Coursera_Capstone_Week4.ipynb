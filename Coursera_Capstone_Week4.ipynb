{
 "cells": [
  {
   "cell_type": "markdown",
   "metadata": {},
   "source": [
    "# Coursera Capstone Week 4 Notebook"
   ]
  },
  {
   "cell_type": "markdown",
   "metadata": {},
   "source": [
    "## Purpose\n",
    "\n",
    "Property prices throughout Australia vary greatly from place to place. This is causing a great deal of financial stress for families trying to maintain their lifestyles. This workbook will classify similar suburbs around Australian cities based on the local services and facilities available to residents as well as the median property price for a family home in those suburbs.\n",
    "\n",
    "This analysis will allow people to see more affordable suburbs so that they may be able to relocate and still maintain their quality of life. \n",
    "\n",
    "\n",
    "## Audience\n",
    "\n",
    "The audience is expected to be anyone in the 25-40 age group. The reason being that group is having the hardest time entering the property market. That is also the group that will most likely have a young enough family that will have the smallest disruption on the dependents lives in the event of a relocation.\n",
    "\n",
    "\n",
    "## Data\n",
    "\n",
    "Postcodes and Lat/Longs for suburbs in Australia - https://www.geonames.org/postalcode-search.html?q=&country=AU&adminCode1=state\n",
    "\n",
    "Foursquare places data (Foursquare API) - https://api.foursquare.com/v2/venues/explore\n",
    "\n"
   ]
  }
 ],
 "metadata": {
  "kernelspec": {
   "display_name": "Python 3",
   "language": "python",
   "name": "python3"
  },
  "language_info": {
   "codemirror_mode": {
    "name": "ipython",
    "version": 3
   },
   "file_extension": ".py",
   "mimetype": "text/x-python",
   "name": "python",
   "nbconvert_exporter": "python",
   "pygments_lexer": "ipython3",
   "version": "3.6.4"
  }
 },
 "nbformat": 4,
 "nbformat_minor": 2
}
